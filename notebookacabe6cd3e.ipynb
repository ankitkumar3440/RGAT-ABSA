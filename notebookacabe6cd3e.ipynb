{
 "cells": [
  {
   "cell_type": "code",
   "execution_count": 1,
   "id": "e8ddf0e0",
   "metadata": {
    "execution": {
     "iopub.execute_input": "2023-12-25T08:16:47.241461Z",
     "iopub.status.busy": "2023-12-25T08:16:47.241045Z",
     "iopub.status.idle": "2023-12-25T08:16:52.852369Z",
     "shell.execute_reply": "2023-12-25T08:16:52.850796Z"
    },
    "papermill": {
     "duration": 5.618366,
     "end_time": "2023-12-25T08:16:52.855448",
     "exception": false,
     "start_time": "2023-12-25T08:16:47.237082",
     "status": "completed"
    },
    "tags": []
   },
   "outputs": [],
   "source": [
    "# encoding=utf-8\n",
    "import sys\n",
    "sys.path.append('../')\n",
    "import torch\n",
    "import random\n",
    "import argparse\n",
    "import numpy as np\n",
    "# from vocab import Vocab\n",
    "# from utils import helper\n",
    "\n",
    "from sklearn import metrics\n",
    "# from bert_loader import ABSADataLoader\n",
    "# from bert_trainer import ABSATrainer"
   ]
  },
  {
   "cell_type": "code",
   "execution_count": 2,
   "id": "09c7311f",
   "metadata": {
    "execution": {
     "iopub.execute_input": "2023-12-25T08:16:52.862940Z",
     "iopub.status.busy": "2023-12-25T08:16:52.862333Z",
     "iopub.status.idle": "2023-12-25T08:16:52.888329Z",
     "shell.execute_reply": "2023-12-25T08:16:52.887117Z"
    },
    "papermill": {
     "duration": 0.03402,
     "end_time": "2023-12-25T08:16:52.891856",
     "exception": false,
     "start_time": "2023-12-25T08:16:52.857836",
     "status": "completed"
    },
    "tags": []
   },
   "outputs": [
    {
     "data": {
      "text/plain": [
       "_StoreAction(option_strings=['--max_len'], dest='max_len', nargs=None, const=None, default=80, type=<class 'int'>, choices=None, required=False, help=None, metavar=None)"
      ]
     },
     "execution_count": 2,
     "metadata": {},
     "output_type": "execute_result"
    }
   ],
   "source": [
    "parser = argparse.ArgumentParser()\n",
    "parser.add_argument(\"--data_dir\", type=str, default=\"dataset/Restaurants\")\n",
    "parser.add_argument(\"--vocab_dir\", type=str, default=\"dataset/Restaurants\")\n",
    "parser.add_argument(\"--hidden_dim\", type=int, default=768, help=\"bert dim.\")\n",
    "\n",
    "parser.add_argument(\"--dep_dim\", type=int, default=30, help=\"dep embedding dimension.\")\n",
    "parser.add_argument(\"--pos_dim\", type=int, default=0, help=\"pos embedding dimension.\")\n",
    "parser.add_argument(\"--post_dim\", type=int, default=0, help=\"position embedding dimension.\")\n",
    "parser.add_argument(\"--num_class\", type=int, default=3, help=\"Num of sentiment class.\")\n",
    "\n",
    "parser.add_argument(\"--input_dropout\", type=float, default=0.1, help=\"Input dropout rate.\")\n",
    "parser.add_argument(\"--layer_dropout\", type=float, default=0, help=\"RGAT layer dropout rate.\")\n",
    "parser.add_argument(\n",
    "    \"--att_dropout\", type=float, default=0, help=\"self-attention layer dropout rate.\"\n",
    ")\n",
    "parser.add_argument(\"--lower\", default=True, help=\"Lowercase all words.\")\n",
    "parser.add_argument(\"--direct\", default=False)\n",
    "parser.add_argument(\"--loop\", default=True)\n",
    "parser.add_argument(\"--reset_pooling\", default=False, action=\"store_true\")\n",
    "parser.add_argument(\"--lr\", type=float, default=2e-5, help=\"learning rate.\")\n",
    "parser.add_argument(\"--bert_lr\", type=float, default=2e-5, help=\"learning rate for bert.\")\n",
    "parser.add_argument(\"--l2\", type=float, default=1e-5, help=\"weight decay rate.\")\n",
    "parser.add_argument(\n",
    "    \"--optim\",\n",
    "    choices=[\"sgd\", \"adagrad\", \"adam\", \"adamax\"],\n",
    "    default=\"adam\",\n",
    "    help=\"Optimizer: sgd, adagrad, adam or adamax.\",\n",
    ")\n",
    "parser.add_argument(\"--num_layer\", type=int, default=3, help=\"Number of graph layers.\")\n",
    "parser.add_argument(\"--num_epoch\", type=int, default=20, help=\"Number of total training epochs.\")\n",
    "parser.add_argument(\"--batch_size\", type=int, default=16, help=\"Training batch size.\")\n",
    "parser.add_argument(\"--log_step\", type=int, default=16, help=\"Print log every k steps.\")\n",
    "parser.add_argument(\n",
    "    \"--save_dir\", type=str, default=\"./saved_models/res14\", help=\"Root dir for saving models.\"\n",
    ")\n",
    "parser.add_argument(\"--model\", type=str, default=\"SGAT\", help=\"model to use, (std, GAT, SGAT)\")\n",
    "parser.add_argument(\"--seed\", type=int, default=29)\n",
    "parser.add_argument(\"--bert_out_dim\", type=int, default=100)\n",
    "parser.add_argument(\n",
    "    \"--output_merge\",\n",
    "    type=str,\n",
    "    default=\"gatenorm2\",\n",
    "    help=\"merge method to use, (none, addnorm, add, attn, gate, gatenorm2)\",\n",
    ")\n",
    "parser.add_argument(\"--max_len\", type=int, default=80)\n"
   ]
  }
 ],
 "metadata": {
  "kaggle": {
   "accelerator": "none",
   "dataSources": [],
   "dockerImageVersionId": 30626,
   "isGpuEnabled": false,
   "isInternetEnabled": false,
   "language": "python",
   "sourceType": "notebook"
  },
  "kernelspec": {
   "display_name": "Python 3",
   "language": "python",
   "name": "python3"
  },
  "language_info": {
   "codemirror_mode": {
    "name": "ipython",
    "version": 3
   },
   "file_extension": ".py",
   "mimetype": "text/x-python",
   "name": "python",
   "nbconvert_exporter": "python",
   "pygments_lexer": "ipython3",
   "version": "3.10.12"
  },
  "papermill": {
   "default_parameters": {},
   "duration": 10.433835,
   "end_time": "2023-12-25T08:16:54.122097",
   "environment_variables": {},
   "exception": null,
   "input_path": "__notebook__.ipynb",
   "output_path": "__notebook__.ipynb",
   "parameters": {},
   "start_time": "2023-12-25T08:16:43.688262",
   "version": "2.4.0"
  }
 },
 "nbformat": 4,
 "nbformat_minor": 5
}
